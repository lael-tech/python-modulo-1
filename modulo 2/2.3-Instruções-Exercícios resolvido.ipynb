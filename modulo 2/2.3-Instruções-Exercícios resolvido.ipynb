{
 "cells": [
  {
   "cell_type": "markdown",
   "metadata": {
    "id": "1pCTdOHonv5f"
   },
   "source": [
    "# Módulo 2\n",
    "\n",
    "## 2.3 Instruções e Expressões\n",
    "\n",
    "### Q1\n",
    "\n",
    "Faça um programa que armazene o valor de 20 reais de salário por hora de um trabalhador, e o número de 40 horas trabalhadas na semana. Com essas informações, calcule e imprima:\n",
    "- Salário semanal bruto\n",
    "- Valor descontado por semana INSS (10% do bruto)\n",
    "- Valor descontado por semana pelo sindicato (5% do bruto)\n",
    "- Salário semanal líquido (Bruto - Descontos)"
   ]
  },
  {
   "cell_type": "code",
   "execution_count": 9,
   "metadata": {
    "id": "hVbX0I97nj6M"
   },
   "outputs": [
    {
     "name": "stdout",
     "output_type": "stream",
     "text": [
      "O salario semanal bruto é:\n",
      "800\n",
      "O valor descontado por semana pelo INSS é:\n",
      "80.0\n",
      "O valor descontado por semana pelo sindicato é:\n",
      "40.0\n",
      "O salario semanal liquido é\n",
      "680.0\n"
     ]
    }
   ],
   "source": [
    "## Escreva e execute seu código aqui\n",
    "salario_por_hora = 20\n",
    "horas_trabalhadas = 40\n",
    "salario_semanal_bruto = salario_por_hora * horas_trabalhadas\n",
    "print('O salario semanal bruto é:')\n",
    "print(salario_semanal_bruto)\n",
    "vds_inss = 0.10\n",
    "print('O valor descontado por semana pelo INSS é:')\n",
    "print(salario_semanal_bruto*vds_inss)\n",
    "vds_sindicato = 0.05\n",
    "print('O valor descontado por semana pelo sindicato é:')\n",
    "print(salario_semanal_bruto*vds_sindicato)\n",
    "descontos = salario_semanal_bruto*0.15\n",
    "print('O salario semanal liquido é')\n",
    "print(salario_semanal_bruto-descontos)\n"
   ]
  },
  {
   "cell_type": "markdown",
   "metadata": {
    "id": "pIxKX9J2oGZ1"
   },
   "source": [
    "### Q2\n",
    "\n",
    "Altere o programa anterior para a partir dos valores de horas trabalhadas por semana e salário por hora, calcular **em somente duas instruções**:\n",
    "- Salário semanal bruto\n",
    "- Salário semanal líquido com todos os descontos. Para a segunda instrução, realize todos os cálculos aritméticos em uma expressão composta.\n"
   ]
  },
  {
   "cell_type": "code",
   "execution_count": 3,
   "metadata": {},
   "outputs": [
    {
     "name": "stdout",
     "output_type": "stream",
     "text": [
      "O salario semanal bruto é: 800\n",
      "O salario semanal liquido é: 680.0\n"
     ]
    }
   ],
   "source": [
    "salario_por_hora = 20\n",
    "horas_trabalhadas = 40\n",
    "bruto = salario_por_hora * horas_trabalhadas\n",
    "liquido = bruto - 0.1 * bruto - 0.05 * bruto\n",
    "print('O salario semanal bruto é:', bruto)\n",
    "print('O salario semanal liquido é:', liquido)"
   ]
  },
  {
   "cell_type": "markdown",
   "metadata": {
    "id": "m8tlHRuWpBOB"
   },
   "source": [
    "### Q3\n",
    "\n",
    "Você está desenvolvendo um software de conversão de moeda e precisa calcular o valor equivalente em yuan chinês a partir de uma quantia em real. A taxa de câmbio é de 0.69 BRL (real) para 1 CNY (yuan). Escreva um programa que define em uma variável uma quantia em reais (BRL) e calcula o valor equivalente em yuan (CNY). Imprima o resultado."
   ]
  },
  {
   "cell_type": "code",
   "execution_count": null,
   "metadata": {
    "id": "2bPw7uF6oeL9"
   },
   "outputs": [
    {
     "name": "stdout",
     "output_type": "stream",
     "text": [
      "34.5\n"
     ]
    }
   ],
   "source": [
    "## Escreva e execute seu código aqui\n",
    "cny_em_reais = 0.69\n",
    "rs = 50\n",
    "convertido = cny_em_reais*rs\n",
    "print(convertido)"
   ]
  },
  {
   "cell_type": "markdown",
   "metadata": {
    "id": "-Na3ltDCp74A"
   },
   "source": [
    "### Q4\n",
    "\n",
    "Você é um treinador de corrida e deseja calcular a velocidade média que um atleta precisa manter para completar a Maratona Internacional de São Silvestre, que tem uma distância total de 42.195 km. A fórmula para calcular a velocidade média ($v\\_media$) é dada por $v\\_media = \\frac{distancia}{tempo}$ . Escreva um programa em Python para calcular a velocidade média necessária para completar a maratona em 3 horas.\n",
    "\n",
    "**Calcule e imprima o resultado em metros/segundo**, ou seja, converta a distância de quilômetros para metros ($metro = \\frac{km}{1000}$) e a velocidade de horas para segundos $(segundo = \\frac{hora}{3600})$."
   ]
  },
  {
   "cell_type": "code",
   "execution_count": 16,
   "metadata": {
    "id": "Bn6l8kcSrE4L"
   },
   "outputs": [
    {
     "name": "stdout",
     "output_type": "stream",
     "text": [
      "14.065\n",
      "A velocidade media é de\n",
      "50.634\n",
      "metros por segundo\n"
     ]
    }
   ],
   "source": [
    "## Escreva e execute seu código aqui\n",
    "distancia = 42.195\n",
    "tempo = 3\n",
    "v_media = distancia/tempo\n",
    "print(v_media)\n",
    "metros_por_segundo = (distancia/1000)/(tempo/3600)\n",
    "print('A velocidade media é de') \n",
    "print(metros_por_segundo)\n",
    "print('metros por segundo')"
   ]
  }
 ],
 "metadata": {
  "colab": {
   "provenance": []
  },
  "kernelspec": {
   "display_name": "Python 3",
   "name": "python3"
  },
  "language_info": {
   "codemirror_mode": {
    "name": "ipython",
    "version": 3
   },
   "file_extension": ".py",
   "mimetype": "text/x-python",
   "name": "python",
   "nbconvert_exporter": "python",
   "pygments_lexer": "ipython3",
   "version": "3.13.0"
  }
 },
 "nbformat": 4,
 "nbformat_minor": 0
}
